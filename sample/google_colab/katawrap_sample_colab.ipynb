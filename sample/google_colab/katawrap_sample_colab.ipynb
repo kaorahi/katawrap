{
  "nbformat": 4,
  "nbformat_minor": 0,
  "metadata": {
    "colab": {
      "provenance": []
    },
    "kernelspec": {
      "name": "python3",
      "display_name": "Python 3"
    },
    "language_info": {
      "name": "python"
    },
    "accelerator": "GPU",
    "gpuClass": "standard"
  },
  "cells": [
    {
      "cell_type": "markdown",
      "source": [
        "# Sample for katawrap on Google Colaboratory"
      ],
      "metadata": {
        "id": "wRf2TbxpeBaQ"
      }
    },
    {
      "cell_type": "markdown",
      "source": [
        "**YOU NEED TO CHANGE RUNTIME TYPE TO \"GPU\" IN \"RUNTIME\" MENU FIRST!**"
      ],
      "metadata": {
        "id": "onJRQAyxefpc"
      }
    },
    {
      "cell_type": "markdown",
      "source": [
        "Download a helper script."
      ],
      "metadata": {
        "id": "PVC8t5P7ensZ"
      }
    },
    {
      "cell_type": "code",
      "source": [
        "!curl -L https://raw.githubusercontent.com/kaorahi/katawrap/ba4a434a5550ca46080cbb1578f2df50cd6a7864/sample/google_colab/katawrap_colab.sh > katawrap_colab.sh\n",
        "!chmod a+x katawrap_colab.sh"
      ],
      "metadata": {
        "colab": {
          "base_uri": "https://localhost:8080/"
        },
        "id": "XHfaP40weeZ2",
        "outputId": "eb49991c-0485-442b-9d15-77f79179cd31"
      },
      "execution_count": 1,
      "outputs": [
        {
          "output_type": "stream",
          "name": "stdout",
          "text": [
            "  % Total    % Received % Xferd  Average Speed   Time    Time     Time  Current\n",
            "                                 Dload  Upload   Total   Spent    Left  Speed\n",
            "100  2880  100  2880    0     0   7700      0 --:--:-- --:--:-- --:--:--  7680\n"
          ]
        }
      ]
    },
    {
      "cell_type": "markdown",
      "source": [
        "Setup KataGo and katawrap."
      ],
      "metadata": {
        "id": "fOI3sg9hhjeH"
      }
    },
    {
      "cell_type": "code",
      "source": [
        "!./katawrap_colab.sh setup"
      ],
      "metadata": {
        "colab": {
          "base_uri": "https://localhost:8080/"
        },
        "id": "FqTfeZ-0gnNS",
        "outputId": "eccb3316-b3b1-406e-dffa-30324a18fed2"
      },
      "execution_count": 2,
      "outputs": [
        {
          "output_type": "stream",
          "name": "stdout",
          "text": [
            "@@@@@@@@@@ Fix libzip issue...\n",
            "Reading package lists... Done\n",
            "Building dependency tree       \n",
            "Reading state information... Done\n",
            "The following package was automatically installed and is no longer required:\n",
            "  libnvidia-common-460\n",
            "Use 'sudo apt autoremove' to remove it.\n",
            "The following additional packages will be installed:\n",
            "  libzip4\n",
            "The following NEW packages will be installed:\n",
            "  libzip-dev libzip4\n",
            "0 upgraded, 2 newly installed, 0 to remove and 21 not upgraded.\n",
            "Need to get 151 kB of archives.\n",
            "After this operation, 542 kB of additional disk space will be used.\n",
            "Get:1 http://archive.ubuntu.com/ubuntu bionic/universe amd64 libzip4 amd64 1.1.2-1.1 [37.8 kB]\n",
            "Get:2 http://archive.ubuntu.com/ubuntu bionic/universe amd64 libzip-dev amd64 1.1.2-1.1 [113 kB]\n",
            "Fetched 151 kB in 1s (105 kB/s)\n",
            "debconf: unable to initialize frontend: Dialog\n",
            "debconf: (No usable dialog-like program is installed, so the dialog based frontend cannot be used. at /usr/share/perl5/Debconf/FrontEnd/Dialog.pm line 76, <> line 2.)\n",
            "debconf: falling back to frontend: Readline\n",
            "debconf: unable to initialize frontend: Readline\n",
            "debconf: (This frontend requires a controlling tty.)\n",
            "debconf: falling back to frontend: Teletype\n",
            "dpkg-preconfigure: unable to re-open stdin: \n",
            "Selecting previously unselected package libzip4:amd64.\n",
            "(Reading database ... 124016 files and directories currently installed.)\n",
            "Preparing to unpack .../libzip4_1.1.2-1.1_amd64.deb ...\n",
            "Unpacking libzip4:amd64 (1.1.2-1.1) ...\n",
            "Selecting previously unselected package libzip-dev:amd64.\n",
            "Preparing to unpack .../libzip-dev_1.1.2-1.1_amd64.deb ...\n",
            "Unpacking libzip-dev:amd64 (1.1.2-1.1) ...\n",
            "Setting up libzip4:amd64 (1.1.2-1.1) ...\n",
            "Setting up libzip-dev:amd64 (1.1.2-1.1) ...\n",
            "Processing triggers for man-db (2.8.3-2ubuntu0.1) ...\n",
            "Processing triggers for libc-bin (2.27-3ubuntu1.6) ...\n",
            "@@@@@@@@@@ Download...\n",
            "  % Total    % Received % Xferd  Average Speed   Time    Time     Time  Current\n",
            "                                 Dload  Upload   Total   Spent    Left  Speed\n",
            "  0     0    0     0    0     0      0      0 --:--:-- --:--:-- --:--:--     0\n",
            "100 33.9M  100 33.9M    0     0  4077k      0  0:00:08  0:00:08 --:--:-- 4619k\n",
            "  % Total    % Received % Xferd  Average Speed   Time    Time     Time  Current\n",
            "                                 Dload  Upload   Total   Spent    Left  Speed\n",
            "  0     0    0     0    0     0      0      0 --:--:-- --:--:-- --:--:--     0\n",
            "100 93.0M  100 93.0M    0     0  6331k      0  0:00:15  0:00:15 --:--:-- 8877k\n",
            "  % Total    % Received % Xferd  Average Speed   Time    Time     Time  Current\n",
            "                                 Dload  Upload   Total   Spent    Left  Speed\n",
            "  0     0    0     0    0     0      0      0 --:--:-- --:--:-- --:--:--     0\n",
            "100  191k    0  191k    0     0  99516      0 --:--:--  0:00:01 --:--:--  241k\n",
            "@@@@@@@@@@ Unzip...\n",
            "Archive:  katago.zip\n",
            "  inflating: katago_dir/README.txt   \n",
            "  inflating: katago_dir/analysis_example.cfg  \n",
            "  inflating: katago_dir/cacert.pem   \n",
            "  inflating: katago_dir/contribute_example.cfg  \n",
            "  inflating: katago_dir/default_gtp.cfg  \n",
            "  inflating: katago_dir/katago       \n",
            "  inflating: katago_dir/match_example.cfg  \n",
            "Archive:  katawrap.zip\n",
            "0ff2cf6d6bb80e6067413e64d18e4a5f58952701\n",
            "   creating: katawrap-0ff2cf6d6bb80e6067413e64d18e4a5f58952701/\n",
            " extracting: katawrap-0ff2cf6d6bb80e6067413e64d18e4a5f58952701/.gitignore  \n",
            "  inflating: katawrap-0ff2cf6d6bb80e6067413e64d18e4a5f58952701/LICENSE.txt  \n",
            "  inflating: katawrap-0ff2cf6d6bb80e6067413e64d18e4a5f58952701/README.md  \n",
            "   creating: katawrap-0ff2cf6d6bb80e6067413e64d18e4a5f58952701/katawrap/\n",
            "  inflating: katawrap-0ff2cf6d6bb80e6067413e64d18e4a5f58952701/katawrap/board.py  \n",
            "  inflating: katawrap-0ff2cf6d6bb80e6067413e64d18e4a5f58952701/katawrap/joiner.py  \n",
            "  inflating: katawrap-0ff2cf6d6bb80e6067413e64d18e4a5f58952701/katawrap/katawrap.py  \n",
            "   creating: katawrap-0ff2cf6d6bb80e6067413e64d18e4a5f58952701/katawrap/katrain/\n",
            "  inflating: katawrap-0ff2cf6d6bb80e6067413e64d18e4a5f58952701/katawrap/katrain/CONTRIBUTIONS.md  \n",
            "  inflating: katawrap-0ff2cf6d6bb80e6067413e64d18e4a5f58952701/katawrap/katrain/LICENSE  \n",
            "  inflating: katawrap-0ff2cf6d6bb80e6067413e64d18e4a5f58952701/katawrap/katrain/README.md  \n",
            "  inflating: katawrap-0ff2cf6d6bb80e6067413e64d18e4a5f58952701/katawrap/katrain/sgf_parser.py  \n",
            "  inflating: katawrap-0ff2cf6d6bb80e6067413e64d18e4a5f58952701/katawrap/sorter.py  \n",
            "  inflating: katawrap-0ff2cf6d6bb80e6067413e64d18e4a5f58952701/katawrap/util.py  \n",
            "   creating: katawrap-0ff2cf6d6bb80e6067413e64d18e4a5f58952701/sample/\n",
            "  inflating: katawrap-0ff2cf6d6bb80e6067413e64d18e4a5f58952701/sample/README.md  \n",
            "  inflating: katawrap-0ff2cf6d6bb80e6067413e64d18e4a5f58952701/sample/katawrap_sample.ipynb  \n",
            "  inflating: katawrap-0ff2cf6d6bb80e6067413e64d18e4a5f58952701/sample/sample_result.jsonl  \n",
            "   creating: katawrap-0ff2cf6d6bb80e6067413e64d18e4a5f58952701/sample/sgf/\n",
            "  inflating: katawrap-0ff2cf6d6bb80e6067413e64d18e4a5f58952701/sample/sgf/sample001.sgf  \n",
            "  inflating: katawrap-0ff2cf6d6bb80e6067413e64d18e4a5f58952701/sample/sgf/sample009.sgf  \n",
            "@@@@@@@@@@ Done.\n"
          ]
        }
      ]
    },
    {
      "cell_type": "markdown",
      "source": [
        "Run KataGo with katawrap. (Modify input and output files if you like.)"
      ],
      "metadata": {
        "id": "YV4grY6Ihunn"
      }
    },
    {
      "cell_type": "code",
      "source": [
        "!ls katawrap_dir/sample/sgf/*.sgf | ./katawrap_colab.sh run -visits 400 > result.jsonl"
      ],
      "metadata": {
        "colab": {
          "base_uri": "https://localhost:8080/"
        },
        "id": "lCHE4oN4hCel",
        "outputId": "086bb327-2fa4-44de-fae0-0778e07e8676"
      },
      "execution_count": 3,
      "outputs": [
        {
          "output_type": "stream",
          "name": "stdout",
          "text": [
            "\r[q 1/2] [res ? > 52 > 0 > 0 > 0] 00:00 ... \r[q 2/2] [res 0 > 79 > 0 > 0 > 0] 00:00 ... 2023-01-09 10:18:25+0000: Running with following config:\n",
            "logDir = analysis_logs\n",
            "maxVisits = 500\n",
            "nnCacheSizePowerOfTwo = 23\n",
            "nnMaxBatchSize = 64\n",
            "nnMutexPoolSizePowerOfTwo = 17\n",
            "nnRandomize = true\n",
            "numAnalysisThreads = 2\n",
            "numSearchThreads = 16\n",
            "reportAnalysisWinratesAs = BLACK\n",
            "\n",
            "2023-01-09 10:18:25+0000: Analysis Engine starting...\n",
            "2023-01-09 10:18:25+0000: KataGo v1.12.0\n",
            "2023-01-09 10:18:25+0000: nnRandSeed0 = 13754789479535553147\n",
            "2023-01-09 10:18:25+0000: After dedups: nnModelFile0 = /content/katago_dir/default_model.bin.gz useFP16 auto useNHWC auto\n",
            "2023-01-09 10:18:25+0000: Initializing neural net buffer to be size 19 * 19 allowing smaller boards\n",
            "2023-01-09 10:18:26+0000: Cuda backend thread 0: Found GPU Tesla T4 memory 15843721216 compute capability major 7 minor 5\n",
            "2023-01-09 10:18:26+0000: Cuda backend thread 0: Model version 11 useFP16 = true useNHWC = true\n",
            "2023-01-09 10:18:26+0000: Cuda backend thread 0: Model name: b18c384nbt-uec-20221121b\n",
            "2023-01-09 10:18:34+0000: Loaded config katago_dir/analysis_example.cfg\n",
            "2023-01-09 10:18:34+0000: Loaded model /content/katago_dir/default_model.bin.gz\n",
            "2023-01-09 10:18:34+0000: Analyzing up to 2 positions at at time in parallel\n",
            "2023-01-09 10:18:34+0000: Started, ready to begin handling requests\n",
            "[q 2/2] [res 0 > 0 > 0 > 0 > 79] 00:44 ... All done.\n"
          ]
        }
      ]
    },
    {
      "cell_type": "markdown",
      "source": [
        "Load the results in Python."
      ],
      "metadata": {
        "id": "3wSb5dGjjFih"
      }
    },
    {
      "cell_type": "code",
      "source": [
        "import pandas as pd\n",
        "df = pd.read_json('./result.jsonl', lines=True)\n",
        "print(df[['sgfFile', 'turnNumber', 'winrate']])"
      ],
      "metadata": {
        "colab": {
          "base_uri": "https://localhost:8080/"
        },
        "id": "00WSAwSdh0Td",
        "outputId": "d224f420-9299-4be0-c210-0367c09d6a12"
      },
      "execution_count": 4,
      "outputs": [
        {
          "output_type": "stream",
          "name": "stdout",
          "text": [
            "                                  sgfFile  turnNumber   winrate\n",
            "0   katawrap_dir/sample/sgf/sample001.sgf           0  0.326399\n",
            "1   katawrap_dir/sample/sgf/sample001.sgf           1  0.333773\n",
            "2   katawrap_dir/sample/sgf/sample001.sgf           2  0.594019\n",
            "3   katawrap_dir/sample/sgf/sample001.sgf           3  0.183481\n",
            "4   katawrap_dir/sample/sgf/sample001.sgf           4  0.571730\n",
            "..                                    ...         ...       ...\n",
            "74  katawrap_dir/sample/sgf/sample009.sgf          22  0.887344\n",
            "75  katawrap_dir/sample/sgf/sample009.sgf          23  0.911252\n",
            "76  katawrap_dir/sample/sgf/sample009.sgf          24  0.993918\n",
            "77  katawrap_dir/sample/sgf/sample009.sgf          25  0.011904\n",
            "78  katawrap_dir/sample/sgf/sample009.sgf          26  0.015735\n",
            "\n",
            "[79 rows x 3 columns]\n"
          ]
        }
      ]
    },
    {
      "cell_type": "markdown",
      "source": [
        "Find the worst 5 blunders excluding those that have nothing to do with winning or losing."
      ],
      "metadata": {
        "id": "jzjOK4bvjMHJ"
      }
    },
    {
      "cell_type": "code",
      "source": [
        "blunders = df.query('nextWinrateGain < -0.1') \\\n",
        "    .sort_values('nextScoreGain') \\\n",
        "    .head(5)[['sgfFile', 'turnNumber', 'nextScoreGain']]\n",
        "print(blunders)"
      ],
      "metadata": {
        "colab": {
          "base_uri": "https://localhost:8080/"
        },
        "id": "vingZQONjOXW",
        "outputId": "ab833237-626a-4a84-d48f-7459d4e586d0"
      },
      "execution_count": 5,
      "outputs": [
        {
          "output_type": "stream",
          "name": "stdout",
          "text": [
            "                                  sgfFile  turnNumber  nextScoreGain\n",
            "34  katawrap_dir/sample/sgf/sample001.sgf          34     -36.179983\n",
            "76  katawrap_dir/sample/sgf/sample009.sgf          24     -35.812483\n",
            "31  katawrap_dir/sample/sgf/sample001.sgf          31     -25.962390\n",
            "67  katawrap_dir/sample/sgf/sample009.sgf          15     -11.562915\n",
            "7   katawrap_dir/sample/sgf/sample001.sgf           7      -9.494816\n"
          ]
        }
      ]
    },
    {
      "cell_type": "markdown",
      "source": [
        "**You need to copy result.jsonl to somewhere outside colab to keep it.** (To download it, click the folder mark in the left side to show the file list. Then right-click on result.jsonl and download it.)"
      ],
      "metadata": {
        "id": "pLIEl-yijf9j"
      }
    },
    {
      "cell_type": "markdown",
      "source": [
        "See katawrap_sample.ipynb for more snippets."
      ],
      "metadata": {
        "id": "mpXPyGD-BOaJ"
      }
    }
  ]
}